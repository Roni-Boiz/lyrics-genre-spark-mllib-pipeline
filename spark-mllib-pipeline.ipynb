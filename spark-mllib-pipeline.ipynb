{
 "cells": [
  {
   "cell_type": "code",
   "execution_count": 1,
   "id": "352c7f7a",
   "metadata": {},
   "outputs": [],
   "source": [
    "from pyspark.sql import SparkSession\n",
    "from pyspark.ml import Pipeline\n",
    "from pyspark.ml import Transformer\n",
    "from pyspark.ml.util import MLWritable, MLWriter, DefaultParamsWriter, MLReadable, MLReader, DefaultParamsReader, DefaultParamsReadable, DefaultParamsWritable\n",
    "from pyspark.ml.feature import Tokenizer, RegexTokenizer, StopWordsRemover, Word2Vec, StringIndexer\n",
    "from pyspark.ml.classification import LogisticRegression\n",
    "from pyspark.ml.classification import RandomForestClassifier\n",
    "from pyspark.ml.evaluation import MulticlassClassificationEvaluator\n",
    "from pyspark.ml.tuning import CrossValidator, ParamGridBuilder\n",
    "from pyspark.ml.param.shared import Param, Params\n",
    "from pyspark.sql.types import StringType, ArrayType, IntegerType\n",
    "from pyspark.sql.functions import regexp_replace, monotonically_increasing_id, explode, col, udf, lower, concat, concat_ws, array_distinct, collect_list, expr\n",
    "from nltk.stem import SnowballStemmer\n",
    "import re"
   ]
  },
  {
   "cell_type": "code",
   "execution_count": null,
   "id": "0294e8f3",
   "metadata": {},
   "outputs": [
    {
     "name": "stderr",
     "output_type": "stream",
     "text": [
      "Setting default log level to \"WARN\".\n",
      "To adjust logging level use sc.setLogLevel(newLevel). For SparkR, use setLogLevel(newLevel).\n",
      "25/03/29 11:07:37 WARN NativeCodeLoader: Unable to load native-hadoop library for your platform... using builtin-java classes where applicable\n",
      "25/03/29 11:07:38 WARN Utils: Service 'SparkUI' could not bind on port 4040. Attempting port 4041.\n"
     ]
    },
    {
     "name": "stderr",
     "output_type": "stream",
     "text": [
      "25/03/29 11:07:58 WARN GarbageCollectionMetrics: To enable non-built-in garbage collector(s) List(G1 Concurrent GC), users should configure it(them) to spark.eventLog.gcMetrics.youngGenerationGarbageCollectors or spark.eventLog.gcMetrics.oldGenerationGarbageCollectors\n"
     ]
    }
   ],
   "source": [
    "spark = SparkSession.builder.master(\"spark://ronila-workstation:7077\") \\\n",
    "    .appName(\"LyricsApp\") \\\n",
    "    .config(\"spark.executor.memory\", \"4g\") \\\n",
    "    .config(\"spark.executor.cores\", \"4\") \\\n",
    "    .config(\"spark.sql.autoBroadcastJoinThreshold\", \"5MB\") \\\n",
    "    .config(\"spark.memory.offHeap.enabled\", \"true\") \\\n",
    "    .config(\"spark.memory.offHeap.size\", \"4g\") \\\n",
    "    .getOrCreate()"
   ]
  },
  {
   "cell_type": "code",
   "execution_count": 3,
   "id": "f24978e3",
   "metadata": {},
   "outputs": [],
   "source": [
    "# spark.conf.set(\"spark.sql.autoBroadcastJoinThreshold\", 5 * 1024 * 1024)\n",
    "# spark.conf.set(\"spark.memory.offHeap.enabled\", \"true\")\n",
    "# spark.conf.set(\"spark.memory.offHeap.size\", \"8g\")"
   ]
  },
  {
   "cell_type": "code",
   "execution_count": 3,
   "id": "9ec8ac80",
   "metadata": {},
   "outputs": [
    {
     "name": "stdout",
     "output_type": "stream",
     "text": [
      "Spark UI: http://ronila-workstation:4040\n"
     ]
    }
   ],
   "source": [
    "print(\"Spark UI:\", spark.sparkContext.uiWebUrl)"
   ]
  },
  {
   "cell_type": "code",
   "execution_count": null,
   "id": "f3d35a3a",
   "metadata": {},
   "outputs": [
    {
     "name": "stderr",
     "output_type": "stream",
     "text": [
      "                                                                                \r"
     ]
    },
    {
     "name": "stdout",
     "output_type": "stream",
     "text": [
      "+--------------------+--------------------+------------+-----+--------------------+\n",
      "|         artist_name|          track_name|release_date|genre|              lyrics|\n",
      "+--------------------+--------------------+------------+-----+--------------------+\n",
      "|              mukesh|mohabbat bhi jhoothi|        1950|  pop|hold time feel br...|\n",
      "|       frankie laine|           i believe|        1950|  pop|believe drop rain...|\n",
      "|         johnnie ray|                 cry|        1950|  pop|sweetheart send l...|\n",
      "|         pérez prado|            patricia|        1950|  pop|kiss lips want st...|\n",
      "|giorgos papadopoulos|  apopse eida oneiro|        1950|  pop|till darling till...|\n",
      "+--------------------+--------------------+------------+-----+--------------------+\n",
      "only showing top 5 rows\n",
      "\n"
     ]
    }
   ],
   "source": [
    "filePath = \"\"\"original_dataset.csv\"\"\"\n",
    "\n",
    "mendeleyDF = spark.read.csv(filePath, header=True, inferSchema=True)\n",
    "\n",
    "mendeleyDF.select(\"artist_name\", \"track_name\", \"release_date\", \"genre\", \"lyrics\").dropna().show(5)"
   ]
  },
  {
   "cell_type": "code",
   "execution_count": null,
   "id": "c522713d",
   "metadata": {},
   "outputs": [
    {
     "name": "stdout",
     "output_type": "stream",
     "text": [
      "+--------------+--------------------+------------+------------+--------------------+\n",
      "|   artist_name|          track_name|release_date|       genre|              lyrics|\n",
      "+--------------+--------------------+------------+------------+--------------------+\n",
      "|    Geographer|           The Guest|        2015|classic soul|my days are like ...|\n",
      "|        Common|                Real|        2014|classic soul|you niggas ain t ...|\n",
      "|         Ralph|               Tease|        2017|classic soul|i ll confess your...|\n",
      "|           Joe|Grown Up Christma...|        2009|classic soul|do you remember w...|\n",
      "|Brian McKnight|O Come, All Ye Fa...|        2008|classic soul|o come all ye fai...|\n",
      "+--------------+--------------------+------------+------------+--------------------+\n",
      "only showing top 5 rows\n",
      "\n"
     ]
    }
   ],
   "source": [
    "filePath2 = \"\"\"custom_dataset.csv\"\"\"\n",
    "\n",
    "studentDF = spark.read.csv(filePath2, header=True, inferSchema=True)\n",
    "\n",
    "studentDF.select(\"artist_name\", \"track_name\", \"release_date\", \"genre\", \"lyrics\").dropna().show(5)"
   ]
  },
  {
   "cell_type": "code",
   "execution_count": 5,
   "id": "aeca134a",
   "metadata": {},
   "outputs": [
    {
     "name": "stdout",
     "output_type": "stream",
     "text": [
      "+--------------------+--------------------+------------+-----+--------------------+\n",
      "|         artist_name|          track_name|release_date|genre|              lyrics|\n",
      "+--------------------+--------------------+------------+-----+--------------------+\n",
      "|              mukesh|mohabbat bhi jhoothi|        1950|  pop|hold time feel br...|\n",
      "|       frankie laine|           i believe|        1950|  pop|believe drop rain...|\n",
      "|         johnnie ray|                 cry|        1950|  pop|sweetheart send l...|\n",
      "|         pérez prado|            patricia|        1950|  pop|kiss lips want st...|\n",
      "|giorgos papadopoulos|  apopse eida oneiro|        1950|  pop|till darling till...|\n",
      "+--------------------+--------------------+------------+-----+--------------------+\n",
      "only showing top 5 rows\n",
      "\n"
     ]
    }
   ],
   "source": [
    "mergedDF = mendeleyDF.union(studentDF)\n",
    "\n",
    "mergedDF.show(5)"
   ]
  },
  {
   "cell_type": "code",
   "execution_count": null,
   "id": "dc78a398",
   "metadata": {},
   "outputs": [],
   "source": [
    "# mergedDF.coalesce(1).write.option(\"header\", \"true\").csv(\"combined_dataset.csv\")"
   ]
  },
  {
   "cell_type": "code",
   "execution_count": 7,
   "id": "142c181b",
   "metadata": {},
   "outputs": [],
   "source": [
    "expDF = mergedDF"
   ]
  },
  {
   "cell_type": "code",
   "execution_count": null,
   "id": "0d38c2c6",
   "metadata": {},
   "outputs": [],
   "source": [
    "# Data Cleaning\n",
    "# lyricsDF = lyricsDF.withColumn(\"cleaned_lyrics\", regexp_replace(col(\"lyrics\"), \"[^a-zA-Z\\\\s]\", \"\"), StringType())"
   ]
  },
  {
   "cell_type": "code",
   "execution_count": 10,
   "id": "eecdfda5",
   "metadata": {},
   "outputs": [],
   "source": [
    "class Cleanser(Transformer, MLReadable, MLWritable):\n",
    "    def _transform(self, dataset):\n",
    "        return dataset.withColumn(\"cleaned_lyrics\", regexp_replace(lower(col(\"lyrics\")), \"[^a-zA-Z\\\\s]\", \"\"))\n",
    "    \n",
    "    def write(self):\n",
    "        \"\"\"Returns an MLWriter instance for saving this ML instance.\"\"\"\n",
    "        return DefaultParamsWriter(self) # Use DefaultParamsWriter\n",
    "\n",
    "    def saveImpl(self, path):\n",
    "        \"\"\"Saves the parameters to the input path.\"\"\"\n",
    "        DefaultParamsWriter.saveImpl(self, path) # Use DefaultParamsWriter\n",
    "\n",
    "    @classmethod\n",
    "    def read(cls):\n",
    "        \"\"\"Returns an MLReader instance for loading this ML instance.\"\"\"\n",
    "        return DefaultParamsReader(cls)\n",
    "\n",
    "    @classmethod\n",
    "    def load(cls, path):\n",
    "        \"\"\"Loads the ML instance from the input path.\"\"\"\n",
    "        reader = DefaultParamsReader(cls)\n",
    "        return reader.load(path)\n",
    "\n",
    "\n",
    "\n",
    "cleanser = Cleanser()"
   ]
  },
  {
   "cell_type": "code",
   "execution_count": null,
   "id": "83fda1c4",
   "metadata": {},
   "outputs": [],
   "source": [
    "expDF = expDF.withColumn(\"cleaned_lyrics\", regexp_replace(lower(col(\"lyrics\")), \"[^a-zA-Z\\\\s]\", \"\"))\n",
    "expDF.show(5)"
   ]
  },
  {
   "cell_type": "code",
   "execution_count": null,
   "id": "01fd5ac5",
   "metadata": {},
   "outputs": [],
   "source": [
    "# Assign line numbers\n",
    "# lyricsDF = lyricsDF.withColumn(\"line_number\", monotonically_increasing_id())"
   ]
  },
  {
   "cell_type": "code",
   "execution_count": 11,
   "id": "3fb96b48",
   "metadata": {},
   "outputs": [],
   "source": [
    "class Numerator(Transformer, MLReadable, MLWritable):\n",
    "    def _transform(self, dataset):\n",
    "        return dataset.withColumn(\"line_number\", monotonically_increasing_id())\n",
    "    \n",
    "    def write(self):\n",
    "        \"\"\"Returns an MLWriter instance for saving this ML instance.\"\"\"\n",
    "        return DefaultParamsWriter(self) # Use DefaultParamsWriter\n",
    "\n",
    "    def saveImpl(self, path):\n",
    "        \"\"\"Saves the parameters to the input path.\"\"\"\n",
    "        DefaultParamsWriter.saveImpl(self, path) # Use DefaultParamsWriter\n",
    "\n",
    "    @classmethod\n",
    "    def read(cls):\n",
    "        \"\"\"Returns an MLReader instance for loading this ML instance.\"\"\"\n",
    "        return DefaultParamsReader(cls)\n",
    "\n",
    "    @classmethod\n",
    "    def load(cls, path):\n",
    "        \"\"\"Loads the ML instance from the input path.\"\"\"\n",
    "        reader = DefaultParamsReader(cls)\n",
    "        return reader.load(path)\n",
    "\n",
    "numerator = Numerator()"
   ]
  },
  {
   "cell_type": "code",
   "execution_count": 11,
   "id": "07836c11",
   "metadata": {},
   "outputs": [
    {
     "name": "stdout",
     "output_type": "stream",
     "text": [
      "+--------------------+--------------------+------------+-----+--------------------+--------------------+-----------+\n",
      "|         artist_name|          track_name|release_date|genre|              lyrics|      cleaned_lyrics|line_number|\n",
      "+--------------------+--------------------+------------+-----+--------------------+--------------------+-----------+\n",
      "|              mukesh|mohabbat bhi jhoothi|        1950|  pop|hold time feel br...|hold time feel br...|          0|\n",
      "|       frankie laine|           i believe|        1950|  pop|believe drop rain...|believe drop rain...|          1|\n",
      "|         johnnie ray|                 cry|        1950|  pop|sweetheart send l...|sweetheart send l...|          2|\n",
      "|         pérez prado|            patricia|        1950|  pop|kiss lips want st...|kiss lips want st...|          3|\n",
      "|giorgos papadopoulos|  apopse eida oneiro|        1950|  pop|till darling till...|till darling till...|          4|\n",
      "+--------------------+--------------------+------------+-----+--------------------+--------------------+-----------+\n",
      "only showing top 5 rows\n",
      "\n"
     ]
    }
   ],
   "source": [
    "expDF = expDF.withColumn(\"line_number\", monotonically_increasing_id())\n",
    "expDF.show(5)"
   ]
  },
  {
   "cell_type": "code",
   "execution_count": 9,
   "id": "da6d0ce6",
   "metadata": {},
   "outputs": [],
   "source": [
    "# Tokenization\n",
    "tokenizer = RegexTokenizer(inputCol=\"cleaned_lyrics\", outputCol=\"tokens\", pattern=\"\\\\W\")"
   ]
  },
  {
   "cell_type": "code",
   "execution_count": 13,
   "id": "b4d580c1",
   "metadata": {},
   "outputs": [
    {
     "name": "stdout",
     "output_type": "stream",
     "text": [
      "+--------------------+--------------------+------------+-----+--------------------+--------------------+-----------+--------------------+\n",
      "|         artist_name|          track_name|release_date|genre|              lyrics|      cleaned_lyrics|line_number|              tokens|\n",
      "+--------------------+--------------------+------------+-----+--------------------+--------------------+-----------+--------------------+\n",
      "|              mukesh|mohabbat bhi jhoothi|        1950|  pop|hold time feel br...|hold time feel br...|          0|[hold, time, feel...|\n",
      "|       frankie laine|           i believe|        1950|  pop|believe drop rain...|believe drop rain...|          1|[believe, drop, r...|\n",
      "|         johnnie ray|                 cry|        1950|  pop|sweetheart send l...|sweetheart send l...|          2|[sweetheart, send...|\n",
      "|         pérez prado|            patricia|        1950|  pop|kiss lips want st...|kiss lips want st...|          3|[kiss, lips, want...|\n",
      "|giorgos papadopoulos|  apopse eida oneiro|        1950|  pop|till darling till...|till darling till...|          4|[till, darling, t...|\n",
      "+--------------------+--------------------+------------+-----+--------------------+--------------------+-----------+--------------------+\n",
      "only showing top 5 rows\n",
      "\n"
     ]
    }
   ],
   "source": [
    "expDF = tokenizer.transform(expDF)\n",
    "expDF.show(5)"
   ]
  },
  {
   "cell_type": "code",
   "execution_count": 10,
   "id": "fb8e0e26",
   "metadata": {},
   "outputs": [],
   "source": [
    "# Stopword Removal\n",
    "stopwords_remover = StopWordsRemover(inputCol=\"tokens\", outputCol=\"filtered_tokens\")"
   ]
  },
  {
   "cell_type": "code",
   "execution_count": 15,
   "id": "61617411",
   "metadata": {},
   "outputs": [
    {
     "name": "stdout",
     "output_type": "stream",
     "text": [
      "+--------------------+--------------------+------------+-----+--------------------+--------------------+-----------+--------------------+--------------------+\n",
      "|         artist_name|          track_name|release_date|genre|              lyrics|      cleaned_lyrics|line_number|              tokens|     filtered_tokens|\n",
      "+--------------------+--------------------+------------+-----+--------------------+--------------------+-----------+--------------------+--------------------+\n",
      "|              mukesh|mohabbat bhi jhoothi|        1950|  pop|hold time feel br...|hold time feel br...|          0|[hold, time, feel...|[hold, time, feel...|\n",
      "|       frankie laine|           i believe|        1950|  pop|believe drop rain...|believe drop rain...|          1|[believe, drop, r...|[believe, drop, r...|\n",
      "|         johnnie ray|                 cry|        1950|  pop|sweetheart send l...|sweetheart send l...|          2|[sweetheart, send...|[sweetheart, send...|\n",
      "|         pérez prado|            patricia|        1950|  pop|kiss lips want st...|kiss lips want st...|          3|[kiss, lips, want...|[kiss, lips, want...|\n",
      "|giorgos papadopoulos|  apopse eida oneiro|        1950|  pop|till darling till...|till darling till...|          4|[till, darling, t...|[till, darling, t...|\n",
      "+--------------------+--------------------+------------+-----+--------------------+--------------------+-----------+--------------------+--------------------+\n",
      "only showing top 5 rows\n",
      "\n"
     ]
    }
   ],
   "source": [
    "expDF = stopwords_remover.transform(expDF)\n",
    "expDF.show(5)"
   ]
  },
  {
   "cell_type": "code",
   "execution_count": null,
   "id": "cb54054f",
   "metadata": {},
   "outputs": [],
   "source": [
    "# Exploder\n",
    "# lyricsDF = lyricsDF.withColumn(\"words\", explode(split(col(\"cleaned_lyrics\"), \" \")))\n",
    "# lyricsDF = lyricsDF.withColumn(\"words_index\", row_number().over(Window.partitionBy(\"line_number\").orderBy(monotonically_increasing_id())))"
   ]
  },
  {
   "cell_type": "code",
   "execution_count": 12,
   "id": "c3a904f4",
   "metadata": {},
   "outputs": [],
   "source": [
    "class Exploder(Transformer, MLReadable, MLWritable):\n",
    "    def _transform(self, dataset):\n",
    "        return dataset.withColumn(\"words\", explode(col(\"filtered_tokens\")))\n",
    "    \n",
    "    def write(self):\n",
    "        \"\"\"Returns an MLWriter instance for saving this ML instance.\"\"\"\n",
    "        return DefaultParamsWriter(self) # Use DefaultParamsWriter\n",
    "\n",
    "    def saveImpl(self, path):\n",
    "        \"\"\"Saves the parameters to the input path.\"\"\"\n",
    "        DefaultParamsWriter.saveImpl(self, path) # Use DefaultParamsWriter\n",
    "\n",
    "    @classmethod\n",
    "    def read(cls):\n",
    "        \"\"\"Returns an MLReader instance for loading this ML instance.\"\"\"\n",
    "        return DefaultParamsReader(cls)\n",
    "\n",
    "    @classmethod\n",
    "    def load(cls, path):\n",
    "        \"\"\"Loads the ML instance from the input path.\"\"\"\n",
    "        reader = DefaultParamsReader(cls)\n",
    "        return reader.load(path)\n",
    "    \n",
    "exploder = Exploder()"
   ]
  },
  {
   "cell_type": "code",
   "execution_count": 17,
   "id": "53d31716",
   "metadata": {},
   "outputs": [
    {
     "name": "stdout",
     "output_type": "stream",
     "text": [
      "+-------------+--------------------+------------+-----+--------------------+--------------------+-----------+--------------------+--------------------+--------+\n",
      "|  artist_name|          track_name|release_date|genre|              lyrics|      cleaned_lyrics|line_number|              tokens|     filtered_tokens|   words|\n",
      "+-------------+--------------------+------------+-----+--------------------+--------------------+-----------+--------------------+--------------------+--------+\n",
      "|       mukesh|mohabbat bhi jhoothi|        1950|  pop|hold time feel br...|hold time feel br...|          0|[hold, time, feel...|[hold, time, feel...|    hold|\n",
      "|       mukesh|mohabbat bhi jhoothi|        1950|  pop|hold time feel br...|hold time feel br...|          0|[hold, time, feel...|[hold, time, feel...|    time|\n",
      "|       mukesh|mohabbat bhi jhoothi|        1950|  pop|hold time feel br...|hold time feel br...|          0|[hold, time, feel...|[hold, time, feel...|    feel|\n",
      "|       mukesh|mohabbat bhi jhoothi|        1950|  pop|hold time feel br...|hold time feel br...|          0|[hold, time, feel...|[hold, time, feel...|   break|\n",
      "|       mukesh|mohabbat bhi jhoothi|        1950|  pop|hold time feel br...|hold time feel br...|          0|[hold, time, feel...|[hold, time, feel...|    feel|\n",
      "|       mukesh|mohabbat bhi jhoothi|        1950|  pop|hold time feel br...|hold time feel br...|          0|[hold, time, feel...|[hold, time, feel...|  untrue|\n",
      "|       mukesh|mohabbat bhi jhoothi|        1950|  pop|hold time feel br...|hold time feel br...|          0|[hold, time, feel...|[hold, time, feel...|convince|\n",
      "|       mukesh|mohabbat bhi jhoothi|        1950|  pop|hold time feel br...|hold time feel br...|          0|[hold, time, feel...|[hold, time, feel...|   speak|\n",
      "|       mukesh|mohabbat bhi jhoothi|        1950|  pop|hold time feel br...|hold time feel br...|          0|[hold, time, feel...|[hold, time, feel...|   voice|\n",
      "|       mukesh|mohabbat bhi jhoothi|        1950|  pop|hold time feel br...|hold time feel br...|          0|[hold, time, feel...|[hold, time, feel...|    tear|\n",
      "|       mukesh|mohabbat bhi jhoothi|        1950|  pop|hold time feel br...|hold time feel br...|          0|[hold, time, feel...|[hold, time, feel...|     try|\n",
      "|       mukesh|mohabbat bhi jhoothi|        1950|  pop|hold time feel br...|hold time feel br...|          0|[hold, time, feel...|[hold, time, feel...|    hold|\n",
      "|       mukesh|mohabbat bhi jhoothi|        1950|  pop|hold time feel br...|hold time feel br...|          0|[hold, time, feel...|[hold, time, feel...|    hurt|\n",
      "|       mukesh|mohabbat bhi jhoothi|        1950|  pop|hold time feel br...|hold time feel br...|          0|[hold, time, feel...|[hold, time, feel...|     try|\n",
      "|       mukesh|mohabbat bhi jhoothi|        1950|  pop|hold time feel br...|hold time feel br...|          0|[hold, time, feel...|[hold, time, feel...| forgive|\n",
      "|       mukesh|mohabbat bhi jhoothi|        1950|  pop|hold time feel br...|hold time feel br...|          0|[hold, time, feel...|[hold, time, feel...|    okay|\n",
      "|       mukesh|mohabbat bhi jhoothi|        1950|  pop|hold time feel br...|hold time feel br...|          0|[hold, time, feel...|[hold, time, feel...|    play|\n",
      "|       mukesh|mohabbat bhi jhoothi|        1950|  pop|hold time feel br...|hold time feel br...|          0|[hold, time, feel...|[hold, time, feel...|   break|\n",
      "|       mukesh|mohabbat bhi jhoothi|        1950|  pop|hold time feel br...|hold time feel br...|          0|[hold, time, feel...|[hold, time, feel...|  string|\n",
      "|       mukesh|mohabbat bhi jhoothi|        1950|  pop|hold time feel br...|hold time feel br...|          0|[hold, time, feel...|[hold, time, feel...|    feel|\n",
      "|       mukesh|mohabbat bhi jhoothi|        1950|  pop|hold time feel br...|hold time feel br...|          0|[hold, time, feel...|[hold, time, feel...|   heart|\n",
      "|       mukesh|mohabbat bhi jhoothi|        1950|  pop|hold time feel br...|hold time feel br...|          0|[hold, time, feel...|[hold, time, feel...|    want|\n",
      "|       mukesh|mohabbat bhi jhoothi|        1950|  pop|hold time feel br...|hold time feel br...|          0|[hold, time, feel...|[hold, time, feel...|    feel|\n",
      "|       mukesh|mohabbat bhi jhoothi|        1950|  pop|hold time feel br...|hold time feel br...|          0|[hold, time, feel...|[hold, time, feel...|    tell|\n",
      "|       mukesh|mohabbat bhi jhoothi|        1950|  pop|hold time feel br...|hold time feel br...|          0|[hold, time, feel...|[hold, time, feel...|    real|\n",
      "|       mukesh|mohabbat bhi jhoothi|        1950|  pop|hold time feel br...|hold time feel br...|          0|[hold, time, feel...|[hold, time, feel...|   truth|\n",
      "|       mukesh|mohabbat bhi jhoothi|        1950|  pop|hold time feel br...|hold time feel br...|          0|[hold, time, feel...|[hold, time, feel...|    hurt|\n",
      "|       mukesh|mohabbat bhi jhoothi|        1950|  pop|hold time feel br...|hold time feel br...|          0|[hold, time, feel...|[hold, time, feel...|     lie|\n",
      "|       mukesh|mohabbat bhi jhoothi|        1950|  pop|hold time feel br...|hold time feel br...|          0|[hold, time, feel...|[hold, time, feel...|   worse|\n",
      "|       mukesh|mohabbat bhi jhoothi|        1950|  pop|hold time feel br...|hold time feel br...|          0|[hold, time, feel...|[hold, time, feel...| anymore|\n",
      "|       mukesh|mohabbat bhi jhoothi|        1950|  pop|hold time feel br...|hold time feel br...|          0|[hold, time, feel...|[hold, time, feel...|  little|\n",
      "|       mukesh|mohabbat bhi jhoothi|        1950|  pop|hold time feel br...|hold time feel br...|          0|[hold, time, feel...|[hold, time, feel...|    turn|\n",
      "|       mukesh|mohabbat bhi jhoothi|        1950|  pop|hold time feel br...|hold time feel br...|          0|[hold, time, feel...|[hold, time, feel...|    dust|\n",
      "|       mukesh|mohabbat bhi jhoothi|        1950|  pop|hold time feel br...|hold time feel br...|          0|[hold, time, feel...|[hold, time, feel...|    play|\n",
      "|       mukesh|mohabbat bhi jhoothi|        1950|  pop|hold time feel br...|hold time feel br...|          0|[hold, time, feel...|[hold, time, feel...|   house|\n",
      "|       mukesh|mohabbat bhi jhoothi|        1950|  pop|hold time feel br...|hold time feel br...|          0|[hold, time, feel...|[hold, time, feel...|    ruin|\n",
      "|       mukesh|mohabbat bhi jhoothi|        1950|  pop|hold time feel br...|hold time feel br...|          0|[hold, time, feel...|[hold, time, feel...|     run|\n",
      "|       mukesh|mohabbat bhi jhoothi|        1950|  pop|hold time feel br...|hold time feel br...|          0|[hold, time, feel...|[hold, time, feel...|   leave|\n",
      "|       mukesh|mohabbat bhi jhoothi|        1950|  pop|hold time feel br...|hold time feel br...|          0|[hold, time, feel...|[hold, time, feel...|    save|\n",
      "|       mukesh|mohabbat bhi jhoothi|        1950|  pop|hold time feel br...|hold time feel br...|          0|[hold, time, feel...|[hold, time, feel...|    like|\n",
      "|       mukesh|mohabbat bhi jhoothi|        1950|  pop|hold time feel br...|hold time feel br...|          0|[hold, time, feel...|[hold, time, feel...|   chase|\n",
      "|       mukesh|mohabbat bhi jhoothi|        1950|  pop|hold time feel br...|hold time feel br...|          0|[hold, time, feel...|[hold, time, feel...|   train|\n",
      "|       mukesh|mohabbat bhi jhoothi|        1950|  pop|hold time feel br...|hold time feel br...|          0|[hold, time, feel...|[hold, time, feel...|    late|\n",
      "|       mukesh|mohabbat bhi jhoothi|        1950|  pop|hold time feel br...|hold time feel br...|          0|[hold, time, feel...|[hold, time, feel...|    late|\n",
      "|       mukesh|mohabbat bhi jhoothi|        1950|  pop|hold time feel br...|hold time feel br...|          0|[hold, time, feel...|[hold, time, feel...|    tear|\n",
      "|       mukesh|mohabbat bhi jhoothi|        1950|  pop|hold time feel br...|hold time feel br...|          0|[hold, time, feel...|[hold, time, feel...|     try|\n",
      "|       mukesh|mohabbat bhi jhoothi|        1950|  pop|hold time feel br...|hold time feel br...|          0|[hold, time, feel...|[hold, time, feel...|    hold|\n",
      "|       mukesh|mohabbat bhi jhoothi|        1950|  pop|hold time feel br...|hold time feel br...|          0|[hold, time, feel...|[hold, time, feel...|    hurt|\n",
      "|       mukesh|mohabbat bhi jhoothi|        1950|  pop|hold time feel br...|hold time feel br...|          0|[hold, time, feel...|[hold, time, feel...|     try|\n",
      "|       mukesh|mohabbat bhi jhoothi|        1950|  pop|hold time feel br...|hold time feel br...|          0|[hold, time, feel...|[hold, time, feel...| forgive|\n",
      "|       mukesh|mohabbat bhi jhoothi|        1950|  pop|hold time feel br...|hold time feel br...|          0|[hold, time, feel...|[hold, time, feel...|    okay|\n",
      "|       mukesh|mohabbat bhi jhoothi|        1950|  pop|hold time feel br...|hold time feel br...|          0|[hold, time, feel...|[hold, time, feel...|    play|\n",
      "|       mukesh|mohabbat bhi jhoothi|        1950|  pop|hold time feel br...|hold time feel br...|          0|[hold, time, feel...|[hold, time, feel...|   break|\n",
      "|       mukesh|mohabbat bhi jhoothi|        1950|  pop|hold time feel br...|hold time feel br...|          0|[hold, time, feel...|[hold, time, feel...|  string|\n",
      "|       mukesh|mohabbat bhi jhoothi|        1950|  pop|hold time feel br...|hold time feel br...|          0|[hold, time, feel...|[hold, time, feel...|    feel|\n",
      "|       mukesh|mohabbat bhi jhoothi|        1950|  pop|hold time feel br...|hold time feel br...|          0|[hold, time, feel...|[hold, time, feel...|   heart|\n",
      "|       mukesh|mohabbat bhi jhoothi|        1950|  pop|hold time feel br...|hold time feel br...|          0|[hold, time, feel...|[hold, time, feel...|    want|\n",
      "|       mukesh|mohabbat bhi jhoothi|        1950|  pop|hold time feel br...|hold time feel br...|          0|[hold, time, feel...|[hold, time, feel...|    feel|\n",
      "|       mukesh|mohabbat bhi jhoothi|        1950|  pop|hold time feel br...|hold time feel br...|          0|[hold, time, feel...|[hold, time, feel...|    tell|\n",
      "|       mukesh|mohabbat bhi jhoothi|        1950|  pop|hold time feel br...|hold time feel br...|          0|[hold, time, feel...|[hold, time, feel...|    real|\n",
      "|       mukesh|mohabbat bhi jhoothi|        1950|  pop|hold time feel br...|hold time feel br...|          0|[hold, time, feel...|[hold, time, feel...|   truth|\n",
      "|       mukesh|mohabbat bhi jhoothi|        1950|  pop|hold time feel br...|hold time feel br...|          0|[hold, time, feel...|[hold, time, feel...|    hurt|\n",
      "|       mukesh|mohabbat bhi jhoothi|        1950|  pop|hold time feel br...|hold time feel br...|          0|[hold, time, feel...|[hold, time, feel...|     lie|\n",
      "|       mukesh|mohabbat bhi jhoothi|        1950|  pop|hold time feel br...|hold time feel br...|          0|[hold, time, feel...|[hold, time, feel...|   worse|\n",
      "|       mukesh|mohabbat bhi jhoothi|        1950|  pop|hold time feel br...|hold time feel br...|          0|[hold, time, feel...|[hold, time, feel...| anymore|\n",
      "|       mukesh|mohabbat bhi jhoothi|        1950|  pop|hold time feel br...|hold time feel br...|          0|[hold, time, feel...|[hold, time, feel...|  little|\n",
      "|       mukesh|mohabbat bhi jhoothi|        1950|  pop|hold time feel br...|hold time feel br...|          0|[hold, time, feel...|[hold, time, feel...|     run|\n",
      "|       mukesh|mohabbat bhi jhoothi|        1950|  pop|hold time feel br...|hold time feel br...|          0|[hold, time, feel...|[hold, time, feel...|   leave|\n",
      "|       mukesh|mohabbat bhi jhoothi|        1950|  pop|hold time feel br...|hold time feel br...|          0|[hold, time, feel...|[hold, time, feel...|    save|\n",
      "|       mukesh|mohabbat bhi jhoothi|        1950|  pop|hold time feel br...|hold time feel br...|          0|[hold, time, feel...|[hold, time, feel...|    like|\n",
      "|       mukesh|mohabbat bhi jhoothi|        1950|  pop|hold time feel br...|hold time feel br...|          0|[hold, time, feel...|[hold, time, feel...|   chase|\n",
      "|       mukesh|mohabbat bhi jhoothi|        1950|  pop|hold time feel br...|hold time feel br...|          0|[hold, time, feel...|[hold, time, feel...|   train|\n",
      "|       mukesh|mohabbat bhi jhoothi|        1950|  pop|hold time feel br...|hold time feel br...|          0|[hold, time, feel...|[hold, time, feel...|    know|\n",
      "|       mukesh|mohabbat bhi jhoothi|        1950|  pop|hold time feel br...|hold time feel br...|          0|[hold, time, feel...|[hold, time, feel...|    late|\n",
      "|       mukesh|mohabbat bhi jhoothi|        1950|  pop|hold time feel br...|hold time feel br...|          0|[hold, time, feel...|[hold, time, feel...|    late|\n",
      "|       mukesh|mohabbat bhi jhoothi|        1950|  pop|hold time feel br...|hold time feel br...|          0|[hold, time, feel...|[hold, time, feel...|    play|\n",
      "|       mukesh|mohabbat bhi jhoothi|        1950|  pop|hold time feel br...|hold time feel br...|          0|[hold, time, feel...|[hold, time, feel...|   break|\n",
      "|       mukesh|mohabbat bhi jhoothi|        1950|  pop|hold time feel br...|hold time feel br...|          0|[hold, time, feel...|[hold, time, feel...|  string|\n",
      "|       mukesh|mohabbat bhi jhoothi|        1950|  pop|hold time feel br...|hold time feel br...|          0|[hold, time, feel...|[hold, time, feel...|    feel|\n",
      "|       mukesh|mohabbat bhi jhoothi|        1950|  pop|hold time feel br...|hold time feel br...|          0|[hold, time, feel...|[hold, time, feel...|   heart|\n",
      "|       mukesh|mohabbat bhi jhoothi|        1950|  pop|hold time feel br...|hold time feel br...|          0|[hold, time, feel...|[hold, time, feel...|    want|\n",
      "|       mukesh|mohabbat bhi jhoothi|        1950|  pop|hold time feel br...|hold time feel br...|          0|[hold, time, feel...|[hold, time, feel...|    feel|\n",
      "|       mukesh|mohabbat bhi jhoothi|        1950|  pop|hold time feel br...|hold time feel br...|          0|[hold, time, feel...|[hold, time, feel...|    tell|\n",
      "|       mukesh|mohabbat bhi jhoothi|        1950|  pop|hold time feel br...|hold time feel br...|          0|[hold, time, feel...|[hold, time, feel...|    real|\n",
      "|       mukesh|mohabbat bhi jhoothi|        1950|  pop|hold time feel br...|hold time feel br...|          0|[hold, time, feel...|[hold, time, feel...|   truth|\n",
      "|       mukesh|mohabbat bhi jhoothi|        1950|  pop|hold time feel br...|hold time feel br...|          0|[hold, time, feel...|[hold, time, feel...|    hurt|\n",
      "|       mukesh|mohabbat bhi jhoothi|        1950|  pop|hold time feel br...|hold time feel br...|          0|[hold, time, feel...|[hold, time, feel...|     lie|\n",
      "|       mukesh|mohabbat bhi jhoothi|        1950|  pop|hold time feel br...|hold time feel br...|          0|[hold, time, feel...|[hold, time, feel...|   worse|\n",
      "|       mukesh|mohabbat bhi jhoothi|        1950|  pop|hold time feel br...|hold time feel br...|          0|[hold, time, feel...|[hold, time, feel...| anymore|\n",
      "|       mukesh|mohabbat bhi jhoothi|        1950|  pop|hold time feel br...|hold time feel br...|          0|[hold, time, feel...|[hold, time, feel...|  little|\n",
      "|       mukesh|mohabbat bhi jhoothi|        1950|  pop|hold time feel br...|hold time feel br...|          0|[hold, time, feel...|[hold, time, feel...|    know|\n",
      "|       mukesh|mohabbat bhi jhoothi|        1950|  pop|hold time feel br...|hold time feel br...|          0|[hold, time, feel...|[hold, time, feel...|  little|\n",
      "|       mukesh|mohabbat bhi jhoothi|        1950|  pop|hold time feel br...|hold time feel br...|          0|[hold, time, feel...|[hold, time, feel...|    hold|\n",
      "|       mukesh|mohabbat bhi jhoothi|        1950|  pop|hold time feel br...|hold time feel br...|          0|[hold, time, feel...|[hold, time, feel...|    time|\n",
      "|       mukesh|mohabbat bhi jhoothi|        1950|  pop|hold time feel br...|hold time feel br...|          0|[hold, time, feel...|[hold, time, feel...|    feel|\n",
      "|frankie laine|           i believe|        1950|  pop|believe drop rain...|believe drop rain...|          1|[believe, drop, r...|[believe, drop, r...| believe|\n",
      "|frankie laine|           i believe|        1950|  pop|believe drop rain...|believe drop rain...|          1|[believe, drop, r...|[believe, drop, r...|    drop|\n",
      "|frankie laine|           i believe|        1950|  pop|believe drop rain...|believe drop rain...|          1|[believe, drop, r...|[believe, drop, r...|    rain|\n",
      "|frankie laine|           i believe|        1950|  pop|believe drop rain...|believe drop rain...|          1|[believe, drop, r...|[believe, drop, r...|    fall|\n",
      "|frankie laine|           i believe|        1950|  pop|believe drop rain...|believe drop rain...|          1|[believe, drop, r...|[believe, drop, r...|    grow|\n",
      "+-------------+--------------------+------------+-----+--------------------+--------------------+-----------+--------------------+--------------------+--------+\n",
      "only showing top 100 rows\n",
      "\n"
     ]
    }
   ],
   "source": [
    "expDF = expDF.withColumn(\"words\", explode(col(\"filtered_tokens\")))\n",
    "expDF.show(100)"
   ]
  },
  {
   "cell_type": "code",
   "execution_count": null,
   "id": "df8dfb8c",
   "metadata": {},
   "outputs": [],
   "source": [
    "# Stemmer\n",
    "# class Stemmer(Transformer):\n",
    "#     def _transform(self, dataset):\n",
    "#         stemmer_udf = udf(lambda word: SnowballStemmer(\"english\").stem(word), StringType())\n",
    "#         return dataset.withColumn(\"stemmed_word\", stemmer_udf(dataset[\"word\"]))"
   ]
  },
  {
   "cell_type": "code",
   "execution_count": 13,
   "id": "7f18e161",
   "metadata": {},
   "outputs": [],
   "source": [
    "class Stemmer(Transformer, MLReadable, MLWritable):\n",
    "    def _transform(self, dataset):\n",
    "        remove_suffix_udf = udf(lambda word: re.sub(r'(ing|ed|ly|es|s)$', '', word), StringType())\n",
    "        return dataset.withColumn(\"stemmed_word\", remove_suffix_udf(col(\"words\")))\n",
    "\n",
    "    def write(self):\n",
    "        \"\"\"Returns an MLWriter instance for saving this ML instance.\"\"\"\n",
    "        return DefaultParamsWriter(self) # Use DefaultParamsWriter\n",
    "\n",
    "    def saveImpl(self, path):\n",
    "        \"\"\"Saves the parameters to the input path.\"\"\"\n",
    "        DefaultParamsWriter.saveImpl(self, path) # Use DefaultParamsWriter\n",
    "    \n",
    "    @classmethod\n",
    "    def read(cls):\n",
    "        \"\"\"Returns an MLReader instance for loading this ML instance.\"\"\"\n",
    "        return DefaultParamsReader(cls)\n",
    "\n",
    "    @classmethod\n",
    "    def load(cls, path):\n",
    "        \"\"\"Loads the ML instance from the input path.\"\"\"\n",
    "        reader = DefaultParamsReader(cls)\n",
    "        return reader.load(path)\n",
    "\n",
    "stemmer = Stemmer()"
   ]
  },
  {
   "cell_type": "code",
   "execution_count": 19,
   "id": "39669a9b",
   "metadata": {},
   "outputs": [
    {
     "name": "stderr",
     "output_type": "stream",
     "text": [
      "[Stage 12:>                                                         (0 + 1) / 1]\r"
     ]
    },
    {
     "name": "stdout",
     "output_type": "stream",
     "text": [
      "+-----------+--------------------+------------+-----+--------------------+--------------------+-----------+--------------------+--------------------+-----+------------+\n",
      "|artist_name|          track_name|release_date|genre|              lyrics|      cleaned_lyrics|line_number|              tokens|     filtered_tokens|words|stemmed_word|\n",
      "+-----------+--------------------+------------+-----+--------------------+--------------------+-----------+--------------------+--------------------+-----+------------+\n",
      "|     mukesh|mohabbat bhi jhoothi|        1950|  pop|hold time feel br...|hold time feel br...|          0|[hold, time, feel...|[hold, time, feel...| hold|        hold|\n",
      "|     mukesh|mohabbat bhi jhoothi|        1950|  pop|hold time feel br...|hold time feel br...|          0|[hold, time, feel...|[hold, time, feel...| time|        time|\n",
      "|     mukesh|mohabbat bhi jhoothi|        1950|  pop|hold time feel br...|hold time feel br...|          0|[hold, time, feel...|[hold, time, feel...| feel|        feel|\n",
      "|     mukesh|mohabbat bhi jhoothi|        1950|  pop|hold time feel br...|hold time feel br...|          0|[hold, time, feel...|[hold, time, feel...|break|       break|\n",
      "|     mukesh|mohabbat bhi jhoothi|        1950|  pop|hold time feel br...|hold time feel br...|          0|[hold, time, feel...|[hold, time, feel...| feel|        feel|\n",
      "+-----------+--------------------+------------+-----+--------------------+--------------------+-----------+--------------------+--------------------+-----+------------+\n",
      "only showing top 5 rows\n",
      "\n"
     ]
    },
    {
     "name": "stderr",
     "output_type": "stream",
     "text": [
      "                                                                                \r"
     ]
    }
   ],
   "source": [
    "remove_suffix_udf = udf(lambda word: re.sub(r'(ing|ed|ly|es|s)$', '', word), StringType())\n",
    "expDF = expDF.withColumn(\"stemmed_word\", remove_suffix_udf(col(\"words\")))\n",
    "expDF.show(5)"
   ]
  },
  {
   "cell_type": "code",
   "execution_count": 14,
   "id": "ebb56921",
   "metadata": {},
   "outputs": [],
   "source": [
    "# Uniter\n",
    "class Uniter(Transformer, MLReadable, MLWritable):\n",
    "    def _transform(self, dataset):\n",
    "        const_lyrics = dataset.groupBy(\"line_number\").agg(concat_ws(\" \", collect_list(\"stemmed_word\")).alias(\"reconstructed_lyrics\")).orderBy(\"line_number\")\n",
    "        return dataset.drop(\"words\", \"stemmed_word\").dropDuplicates().orderBy(\"line_number\").join(const_lyrics, \"line_number\", \"right\").orderBy(\"line_number\")\n",
    "\n",
    "    def write(self):\n",
    "        \"\"\"Returns an MLWriter instance for saving this ML instance.\"\"\"\n",
    "        return DefaultParamsWriter(self) # Use DefaultParamsWriter\n",
    "\n",
    "    def saveImpl(self, path):\n",
    "        \"\"\"Saves the parameters to the input path.\"\"\"\n",
    "        DefaultParamsWriter.saveImpl(self, path) # Use DefaultParamsWriter\n",
    "        \n",
    "    @classmethod\n",
    "    def read(cls):\n",
    "        \"\"\"Returns an MLReader instance for loading this ML instance.\"\"\"\n",
    "        return DefaultParamsReader(cls)\n",
    "\n",
    "    @classmethod\n",
    "    def load(cls, path):\n",
    "        \"\"\"Loads the ML instance from the input path.\"\"\"\n",
    "        reader = DefaultParamsReader(cls)\n",
    "        return reader.load(path)\n",
    "\n",
    "uniter = Uniter()"
   ]
  },
  {
   "cell_type": "code",
   "execution_count": 21,
   "id": "04b10143",
   "metadata": {},
   "outputs": [
    {
     "name": "stderr",
     "output_type": "stream",
     "text": [
      "                                                                                \r"
     ]
    },
    {
     "name": "stdout",
     "output_type": "stream",
     "text": [
      "+-----------+--------------------+\n",
      "|line_number|reconstructed_lyrics|\n",
      "+-----------+--------------------+\n",
      "|          0|hold time feel br...|\n",
      "|          1|believe drop rain...|\n",
      "|          2|sweetheart send l...|\n",
      "|          3|kis lip want stro...|\n",
      "|          4|till darl till ma...|\n",
      "+-----------+--------------------+\n",
      "only showing top 5 rows\n",
      "\n"
     ]
    },
    {
     "name": "stderr",
     "output_type": "stream",
     "text": [
      "[Stage 17:==============================================>           (4 + 1) / 5]\r"
     ]
    },
    {
     "name": "stdout",
     "output_type": "stream",
     "text": [
      "+-----------+--------------------+--------------------+------------+-----+--------------------+--------------------+--------------------+--------------------+--------------------+\n",
      "|line_number|         artist_name|          track_name|release_date|genre|              lyrics|      cleaned_lyrics|              tokens|     filtered_tokens|reconstructed_lyrics|\n",
      "+-----------+--------------------+--------------------+------------+-----+--------------------+--------------------+--------------------+--------------------+--------------------+\n",
      "|          0|              mukesh|mohabbat bhi jhoothi|        1950|  pop|hold time feel br...|hold time feel br...|[hold, time, feel...|[hold, time, feel...|hold time feel br...|\n",
      "|          1|       frankie laine|           i believe|        1950|  pop|believe drop rain...|believe drop rain...|[believe, drop, r...|[believe, drop, r...|believe drop rain...|\n",
      "|          2|         johnnie ray|                 cry|        1950|  pop|sweetheart send l...|sweetheart send l...|[sweetheart, send...|[sweetheart, send...|sweetheart send l...|\n",
      "|          3|         pérez prado|            patricia|        1950|  pop|kiss lips want st...|kiss lips want st...|[kiss, lips, want...|[kiss, lips, want...|kis lip want stro...|\n",
      "|          4|giorgos papadopoulos|  apopse eida oneiro|        1950|  pop|till darling till...|till darling till...|[till, darling, t...|[till, darling, t...|till darl till ma...|\n",
      "+-----------+--------------------+--------------------+------------+-----+--------------------+--------------------+--------------------+--------------------+--------------------+\n",
      "only showing top 5 rows\n",
      "\n"
     ]
    },
    {
     "name": "stderr",
     "output_type": "stream",
     "text": [
      "                                                                                \r"
     ]
    }
   ],
   "source": [
    "const_lyrics = expDF.groupBy(\"line_number\") \\\n",
    "    .agg(concat_ws(\" \", collect_list(\"stemmed_word\")).alias(\"reconstructed_lyrics\")) \\\n",
    "    .orderBy(\"line_number\")\n",
    "const_lyrics.show(5)\n",
    "\n",
    "expDF = expDF.drop(\"words\", \"stemmed_word\").dropDuplicates().orderBy(\"line_number\").join(const_lyrics, \"line_number\", \"right\").orderBy(\"line_number\")\n",
    "expDF.show(5)"
   ]
  },
  {
   "cell_type": "code",
   "execution_count": null,
   "id": "fabea306",
   "metadata": {},
   "outputs": [],
   "source": [
    "# grouped_df = expDF.groupBy(\"line_number\") \\\n",
    "#     .agg(concat_ws(\" \", collect_list(\"stemmed_word\")).alias(\"reconstructed_lyrics\")) \\\n",
    "#     .orderBy(\"line_number\")\n",
    "# expDF.join(grouped_df, \"line_number\", \"inner\").show(5)"
   ]
  },
  {
   "cell_type": "code",
   "execution_count": null,
   "id": "1995d877",
   "metadata": {},
   "outputs": [],
   "source": [
    "# Verser\n",
    "# lyricsDF = lyricsDF.withColumn(\"verse\", lyricsDF[\"collect_list(stemmed)\"])"
   ]
  },
  {
   "cell_type": "code",
   "execution_count": 15,
   "id": "5beefed0",
   "metadata": {},
   "outputs": [],
   "source": [
    "class Verser(Transformer, MLReadable, MLWritable):\n",
    "    def __init__(self, sentences_in_verse=16):\n",
    "        super().__init__()\n",
    "        self.sentences_in_verse = sentences_in_verse\n",
    "\n",
    "    def _transform(self, dataset):\n",
    "        def create_verses(lyrics):\n",
    "            words = lyrics.split()\n",
    "            verses = [\" \".join(words[i:i + self.sentences_in_verse]) for i in range(0, len(words), self.sentences_in_verse)]\n",
    "            return verses\n",
    "\n",
    "        verse_udf = udf(create_verses, ArrayType(StringType()))\n",
    "\n",
    "        return dataset.withColumn(\"verses\", verse_udf(dataset[\"reconstructed_lyrics\"]))\n",
    "    \n",
    "    def write(self):\n",
    "        \"\"\"Returns an MLWriter instance for saving this ML instance.\"\"\"\n",
    "        return DefaultParamsWriter(self) # Use DefaultParamsWriter\n",
    "\n",
    "    def saveImpl(self, path):\n",
    "        \"\"\"Saves the parameters to the input path.\"\"\"\n",
    "        DefaultParamsWriter.saveImpl(self, path) # Use DefaultParamsWriter\n",
    "\n",
    "    @classmethod\n",
    "    def read(cls):\n",
    "        \"\"\"Returns an MLReader instance for loading this ML instance.\"\"\"\n",
    "        return DefaultParamsReader(cls)\n",
    "\n",
    "    @classmethod\n",
    "    def load(cls, path):\n",
    "        \"\"\"Loads the ML instance from the input path.\"\"\"\n",
    "        reader = DefaultParamsReader(cls)\n",
    "        return reader.load(path)\n",
    "    \n",
    "verser = Verser()"
   ]
  },
  {
   "cell_type": "code",
   "execution_count": 23,
   "id": "4f3da69a",
   "metadata": {},
   "outputs": [
    {
     "name": "stderr",
     "output_type": "stream",
     "text": [
      "[Stage 35:=============================>                            (2 + 2) / 4]\r"
     ]
    },
    {
     "name": "stdout",
     "output_type": "stream",
     "text": [
      "+-----------+--------------------+--------------------+------------+-----+--------------------+--------------------+--------------------+--------------------+--------------------+--------------------+\n",
      "|line_number|         artist_name|          track_name|release_date|genre|              lyrics|      cleaned_lyrics|              tokens|     filtered_tokens|reconstructed_lyrics|              verses|\n",
      "+-----------+--------------------+--------------------+------------+-----+--------------------+--------------------+--------------------+--------------------+--------------------+--------------------+\n",
      "|          0|              mukesh|mohabbat bhi jhoothi|        1950|  pop|hold time feel br...|hold time feel br...|[hold, time, feel...|[hold, time, feel...|hold time feel br...|[hold time feel b...|\n",
      "|          1|       frankie laine|           i believe|        1950|  pop|believe drop rain...|believe drop rain...|[believe, drop, r...|[believe, drop, r...|believe drop rain...|[believe drop rai...|\n",
      "|          2|         johnnie ray|                 cry|        1950|  pop|sweetheart send l...|sweetheart send l...|[sweetheart, send...|[sweetheart, send...|sweetheart send l...|[sweetheart send ...|\n",
      "|          3|         pérez prado|            patricia|        1950|  pop|kiss lips want st...|kiss lips want st...|[kiss, lips, want...|[kiss, lips, want...|kis lip want stro...|[kis lip want str...|\n",
      "|          4|giorgos papadopoulos|  apopse eida oneiro|        1950|  pop|till darling till...|till darling till...|[till, darling, t...|[till, darling, t...|till darl till ma...|[till darl till m...|\n",
      "+-----------+--------------------+--------------------+------------+-----+--------------------+--------------------+--------------------+--------------------+--------------------+--------------------+\n",
      "only showing top 5 rows\n",
      "\n"
     ]
    },
    {
     "name": "stderr",
     "output_type": "stream",
     "text": [
      "                                                                                \r"
     ]
    }
   ],
   "source": [
    "def create_verses(lyrics):\n",
    "            words = lyrics.split()\n",
    "            verses = [\" \".join(words[i:i + 16]) for i in range(0, len(words), 16)]\n",
    "            return verses\n",
    "\n",
    "verse_udf = udf(create_verses, ArrayType(StringType()))\n",
    "expDF = expDF.withColumn(\"verses\", verse_udf(expDF[\"reconstructed_lyrics\"]))\n",
    "expDF.show(5)"
   ]
  },
  {
   "cell_type": "code",
   "execution_count": 15,
   "id": "5ec38eb1",
   "metadata": {},
   "outputs": [],
   "source": [
    "# Word2Vec\n",
    "word2Vec = Word2Vec(inputCol=\"verses\", outputCol=\"features\", vectorSize=100, minCount=0)"
   ]
  },
  {
   "cell_type": "code",
   "execution_count": 25,
   "id": "ad55e1dd",
   "metadata": {},
   "outputs": [
    {
     "name": "stderr",
     "output_type": "stream",
     "text": [
      "[Stage 74:>                                                         (0 + 1) / 1]\r"
     ]
    },
    {
     "name": "stdout",
     "output_type": "stream",
     "text": [
      "+-----------+--------------------+--------------------+------------+-----+--------------------+--------------------+--------------------+--------------------+--------------------+--------------------+--------------------+\n",
      "|line_number|         artist_name|          track_name|release_date|genre|              lyrics|      cleaned_lyrics|              tokens|     filtered_tokens|reconstructed_lyrics|              verses|            features|\n",
      "+-----------+--------------------+--------------------+------------+-----+--------------------+--------------------+--------------------+--------------------+--------------------+--------------------+--------------------+\n",
      "|          0|              mukesh|mohabbat bhi jhoothi|        1950|  pop|hold time feel br...|hold time feel br...|[hold, time, feel...|[hold, time, feel...|hold time feel br...|[hold time feel b...|[-8.4334748680703...|\n",
      "|          1|       frankie laine|           i believe|        1950|  pop|believe drop rain...|believe drop rain...|[believe, drop, r...|[believe, drop, r...|believe drop rain...|[believe drop rai...|[-1.7475718050263...|\n",
      "|          2|         johnnie ray|                 cry|        1950|  pop|sweetheart send l...|sweetheart send l...|[sweetheart, send...|[sweetheart, send...|sweetheart send l...|[sweetheart send ...|[-0.0028584347455...|\n",
      "|          3|         pérez prado|            patricia|        1950|  pop|kiss lips want st...|kiss lips want st...|[kiss, lips, want...|[kiss, lips, want...|kis lip want stro...|[kis lip want str...|[-2.5506649399176...|\n",
      "|          4|giorgos papadopoulos|  apopse eida oneiro|        1950|  pop|till darling till...|till darling till...|[till, darling, t...|[till, darling, t...|till darl till ma...|[till darl till m...|[-6.0104493362208...|\n",
      "+-----------+--------------------+--------------------+------------+-----+--------------------+--------------------+--------------------+--------------------+--------------------+--------------------+--------------------+\n",
      "only showing top 5 rows\n",
      "\n"
     ]
    },
    {
     "name": "stderr",
     "output_type": "stream",
     "text": [
      "                                                                                \r"
     ]
    }
   ],
   "source": [
    "word2Vec_model = word2Vec.fit(expDF)\n",
    "expDF = word2Vec_model.transform(expDF)\n",
    "expDF.show(5)"
   ]
  },
  {
   "cell_type": "code",
   "execution_count": 6,
   "id": "ec21dd4f",
   "metadata": {},
   "outputs": [
    {
     "name": "stderr",
     "output_type": "stream",
     "text": [
      "                                                                                \r"
     ]
    },
    {
     "name": "stdout",
     "output_type": "stream",
     "text": [
      "+--------------------+--------------------+------------+-----+--------------------+----------+\n",
      "|         artist_name|          track_name|release_date|genre|              lyrics|labelIndex|\n",
      "+--------------------+--------------------+------------+-----+--------------------+----------+\n",
      "|              mukesh|mohabbat bhi jhoothi|        1950|  pop|hold time feel br...|       0.0|\n",
      "|       frankie laine|           i believe|        1950|  pop|believe drop rain...|       0.0|\n",
      "|         johnnie ray|                 cry|        1950|  pop|sweetheart send l...|       0.0|\n",
      "|         pérez prado|            patricia|        1950|  pop|kiss lips want st...|       0.0|\n",
      "|giorgos papadopoulos|  apopse eida oneiro|        1950|  pop|till darling till...|       0.0|\n",
      "+--------------------+--------------------+------------+-----+--------------------+----------+\n",
      "only showing top 5 rows\n",
      "\n"
     ]
    }
   ],
   "source": [
    "# Indexer\n",
    "label_indexer = StringIndexer(inputCol=\"genre\", outputCol=\"labelIndex\")\n",
    "indexer_model = label_indexer.fit(mergedDF)\n",
    "mergedDF = indexer_model.transform(mergedDF)\n",
    "mergedDF.show(5)"
   ]
  },
  {
   "cell_type": "code",
   "execution_count": 7,
   "id": "a4bb99c1",
   "metadata": {},
   "outputs": [
    {
     "name": "stdout",
     "output_type": "stream",
     "text": [
      "Index: 0, Genre: pop\n",
      "Index: 1, Genre: country\n",
      "Index: 2, Genre: blues\n",
      "Index: 3, Genre: rock\n",
      "Index: 4, Genre: jazz\n",
      "Index: 5, Genre: reggae\n",
      "Index: 6, Genre: hip hop\n",
      "Index: 7, Genre: classic soul\n"
     ]
    }
   ],
   "source": [
    "for label, index in zip(indexer_model.labels, range(len(indexer_model.labels))):\n",
    "    print(f\"Index: {index}, Genre: {label}\")"
   ]
  },
  {
   "cell_type": "code",
   "execution_count": 18,
   "id": "e8d497eb",
   "metadata": {},
   "outputs": [],
   "source": [
    "# Regressor\n",
    "# rfRegressor = RandomForestClassifier(featuresCol=\"features\", labelCol=\"labelIndex\", numTrees=250)\n",
    "logisticRegression = LogisticRegression(maxIter=100, regParam=0.01, featuresCol=\"features\", labelCol=\"labelIndex\")"
   ]
  },
  {
   "cell_type": "code",
   "execution_count": 19,
   "id": "dd43ab53",
   "metadata": {},
   "outputs": [],
   "source": [
    "pipeline = Pipeline(stages=[\n",
    "    cleanser,\n",
    "    numerator,\n",
    "    tokenizer,\n",
    "    stopwords_remover,\n",
    "    exploder,\n",
    "    stemmer,\n",
    "    uniter,\n",
    "    verser,\n",
    "    word2Vec,\n",
    "    logisticRegression\n",
    "])"
   ]
  },
  {
   "cell_type": "code",
   "execution_count": 8,
   "id": "b690626f",
   "metadata": {},
   "outputs": [],
   "source": [
    "# Train-test split\n",
    "train_data, test_data = mergedDF.randomSplit([0.8, 0.2], seed=42)"
   ]
  },
  {
   "cell_type": "code",
   "execution_count": 21,
   "id": "f5207477",
   "metadata": {},
   "outputs": [],
   "source": [
    "# --- Parameter Grid for Cross-Validation ---\n",
    "paramGrid = ParamGridBuilder() \\\n",
    "    .addGrid(word2Vec.vectorSize, [100, 200, 300]) \\\n",
    "    .addGrid(logisticRegression.regParam, [0.01, 0.05]) \\\n",
    "    .addGrid(logisticRegression.maxIter, [100, 200, 300]) \\\n",
    "    .build()\n",
    "\n",
    "# --- Cross-Validator ---\n",
    "crossValidator = CrossValidator() \\\n",
    "    .setEstimator(pipeline) \\\n",
    "    .setEstimatorParamMaps(paramGrid) \\\n",
    "    .setEvaluator(MulticlassClassificationEvaluator(labelCol=\"labelIndex\", predictionCol=\"prediction\", metricName=\"accuracy\")) \\\n",
    "    .setNumFolds(3)"
   ]
  },
  {
   "cell_type": "code",
   "execution_count": 22,
   "id": "0c8d4baa",
   "metadata": {},
   "outputs": [
    {
     "name": "stderr",
     "output_type": "stream",
     "text": [
      "25/03/29 03:24:39 WARN InstanceBuilder: Failed to load implementation from:dev.ludovic.netlib.blas.VectorBLAS\n",
      "                                                                                \r"
     ]
    }
   ],
   "source": [
    "model = pipeline.fit(train_data)"
   ]
  },
  {
   "cell_type": "code",
   "execution_count": null,
   "id": "fb7f8a60",
   "metadata": {},
   "outputs": [],
   "source": [
    "# cv_model = crossValidator.fit(train_data)"
   ]
  },
  {
   "cell_type": "code",
   "execution_count": 23,
   "id": "6bd67bef",
   "metadata": {},
   "outputs": [
    {
     "name": "stderr",
     "output_type": "stream",
     "text": [
      "25/03/29 03:25:22 WARN TaskSetManager: Stage 183 contains a task of very large size (10303 KiB). The maximum recommended task size is 1000 KiB.\n",
      "                                                                                \r"
     ]
    }
   ],
   "source": [
    "# bestModel = model.bestModel\n",
    "\n",
    "savePath = \"./model\"\n",
    "# bestModel.save(savePath)\n",
    "model.write().overwrite().save(savePath)"
   ]
  },
  {
   "cell_type": "code",
   "execution_count": null,
   "id": "b4df3eb5",
   "metadata": {},
   "outputs": [
    {
     "name": "stderr",
     "output_type": "stream",
     "text": [
      "[Stage 225:>                                                        (0 + 1) / 1]\r"
     ]
    },
    {
     "name": "stdout",
     "output_type": "stream",
     "text": [
      "+-----+----------+-----------------------------------------------------------------------------------------------------------------------------------------------------------------+\n",
      "|genre|prediction|probability                                                                                                                                                      |\n",
      "+-----+----------+-----------------------------------------------------------------------------------------------------------------------------------------------------------------+\n",
      "|pop  |0.0       |[0.2518460796235216,0.18992968652631886,0.15803029715607506,0.14351421537232353,0.13788677653531756,0.08305020624373007,0.03180815442642361,0.003934584116289681]|\n",
      "|pop  |0.0       |[0.2518460796235216,0.18992968652631886,0.15803029715607506,0.14351421537232353,0.13788677653531756,0.08305020624373007,0.03180815442642361,0.003934584116289681]|\n",
      "|pop  |0.0       |[0.2518460796235216,0.18992968652631886,0.15803029715607506,0.14351421537232353,0.13788677653531756,0.08305020624373007,0.03180815442642361,0.003934584116289681]|\n",
      "|pop  |0.0       |[0.2518460796235216,0.18992968652631886,0.15803029715607506,0.14351421537232353,0.13788677653531756,0.08305020624373007,0.03180815442642361,0.003934584116289681]|\n",
      "|pop  |0.0       |[0.2518460796235216,0.18992968652631886,0.15803029715607506,0.14351421537232353,0.13788677653531756,0.08305020624373007,0.03180815442642361,0.003934584116289681]|\n",
      "|pop  |0.0       |[0.2518460796235216,0.18992968652631886,0.15803029715607506,0.14351421537232353,0.13788677653531756,0.08305020624373007,0.03180815442642361,0.003934584116289681]|\n",
      "|pop  |0.0       |[0.2518460796235216,0.18992968652631886,0.15803029715607506,0.14351421537232353,0.13788677653531756,0.08305020624373007,0.03180815442642361,0.003934584116289681]|\n",
      "|pop  |0.0       |[0.2518460796235216,0.18992968652631886,0.15803029715607506,0.14351421537232353,0.13788677653531756,0.08305020624373007,0.03180815442642361,0.003934584116289681]|\n",
      "|pop  |0.0       |[0.2518460796235216,0.18992968652631886,0.15803029715607506,0.14351421537232353,0.13788677653531756,0.08305020624373007,0.03180815442642361,0.003934584116289681]|\n",
      "|pop  |0.0       |[0.2518460796235216,0.18992968652631886,0.15803029715607506,0.14351421537232353,0.13788677653531756,0.08305020624373007,0.03180815442642361,0.003934584116289681]|\n",
      "|pop  |0.0       |[0.2518460796235216,0.18992968652631886,0.15803029715607506,0.14351421537232353,0.13788677653531756,0.08305020624373007,0.03180815442642361,0.003934584116289681]|\n",
      "|pop  |0.0       |[0.2518460796235216,0.18992968652631886,0.15803029715607506,0.14351421537232353,0.13788677653531756,0.08305020624373007,0.03180815442642361,0.003934584116289681]|\n",
      "|pop  |0.0       |[0.2518460796235216,0.18992968652631886,0.15803029715607506,0.14351421537232353,0.13788677653531756,0.08305020624373007,0.03180815442642361,0.003934584116289681]|\n",
      "|pop  |0.0       |[0.2518460796235216,0.18992968652631886,0.15803029715607506,0.14351421537232353,0.13788677653531756,0.08305020624373007,0.03180815442642361,0.003934584116289681]|\n",
      "|pop  |0.0       |[0.24484211570491615,0.18172232366101398,0.17174153656715607,0.1330940281337309,0.1504222035603253,0.08214018462556766,0.03205080768098266,0.003986800066307255] |\n",
      "|pop  |0.0       |[0.2518460796235216,0.18992968652631886,0.15803029715607506,0.14351421537232353,0.13788677653531756,0.08305020624373007,0.03180815442642361,0.003934584116289681]|\n",
      "|pop  |0.0       |[0.2518460796235216,0.18992968652631886,0.15803029715607506,0.14351421537232353,0.13788677653531756,0.08305020624373007,0.03180815442642361,0.003934584116289681]|\n",
      "|pop  |0.0       |[0.2518460796235216,0.18992968652631886,0.15803029715607506,0.14351421537232353,0.13788677653531756,0.08305020624373007,0.03180815442642361,0.003934584116289681]|\n",
      "|pop  |0.0       |[0.2518460796235216,0.18992968652631886,0.15803029715607506,0.14351421537232353,0.13788677653531756,0.08305020624373007,0.03180815442642361,0.003934584116289681]|\n",
      "|pop  |0.0       |[0.2518460796235216,0.18992968652631886,0.15803029715607506,0.14351421537232353,0.13788677653531756,0.08305020624373007,0.03180815442642361,0.003934584116289681]|\n",
      "+-----+----------+-----------------------------------------------------------------------------------------------------------------------------------------------------------------+\n",
      "only showing top 20 rows\n",
      "\n"
     ]
    },
    {
     "name": "stderr",
     "output_type": "stream",
     "text": [
      "                                                                                \r"
     ]
    }
   ],
   "source": [
    "# Load the saved model\n",
    "from pyspark.ml.pipeline import PipelineModel\n",
    "\n",
    "loaded_model = PipelineModel.load(\"./model\")\n",
    "new_predictions = loaded_model.transform(test_data)\n",
    "new_predictions.select(\"genre\", \"prediction\", \"probability\").show(truncate=False)"
   ]
  },
  {
   "cell_type": "code",
   "execution_count": 25,
   "id": "d4e44098",
   "metadata": {},
   "outputs": [
    {
     "name": "stderr",
     "output_type": "stream",
     "text": [
      "[Stage 231:>                                                        (0 + 1) / 1]\r"
     ]
    },
    {
     "name": "stdout",
     "output_type": "stream",
     "text": [
      "+----------+-----------------------------------------------------------------------------------------------------------------------------------------------------------------+\n",
      "|prediction|probability                                                                                                                                                      |\n",
      "+----------+-----------------------------------------------------------------------------------------------------------------------------------------------------------------+\n",
      "|0.0       |[0.2518460796235216,0.18992968652631886,0.15803029715607506,0.14351421537232353,0.13788677653531756,0.08305020624373007,0.03180815442642361,0.003934584116289681]|\n",
      "+----------+-----------------------------------------------------------------------------------------------------------------------------------------------------------------+\n",
      "\n"
     ]
    },
    {
     "name": "stderr",
     "output_type": "stream",
     "text": [
      "                                                                                \r"
     ]
    }
   ],
   "source": [
    "song_lyrics = \"\"\"I won't let you down\n",
    "I will not give you up\n",
    "Gotta have some faith in the sound\n",
    "It's the one good thing that I've got\n",
    "I won't let you down\n",
    "So please don't give me up\n",
    "Because I would really, really love to stick around\n",
    "Oh, yeah\n",
    "Heaven knows I was just a young boy\n",
    "Didn't know what I wanted to be (Didn't know what I wanted to be)\n",
    "I was every little hungry schoolgirl's pride and joy\n",
    "And I guess it was enough for me (And I guess it was enough for me)\n",
    "To win the race, a prettier face\n",
    "Brand new clothes and a big fat place\n",
    "On your rock and roll TV (Rock and roll TV)\n",
    "But today the way I play the game is not the same, no way\n",
    "Think I'm gonna get me some happy\n",
    "I think there's something you should know\n",
    "(I think it's time I told you so)\n",
    "There's something deep inside of me\n",
    "(There's someone else I've got to be)\n",
    "Take back your picture in a frame\n",
    "(Take back your singing in the rain)\n",
    "I just hope you understand\n",
    "Sometimes the clothes do not make the man\n",
    "All we have to do now\n",
    "Is take these lies and make them true somehow\n",
    "All we have to see\n",
    "Is that I don't belong to you and you don't belong to me, yeah yeah\"\"\"\n",
    "new_lyrics_df = spark.createDataFrame([(song_lyrics,)], [\"lyrics\"])\n",
    "\n",
    "# Transform new lyrics using the saved pipeline\n",
    "new_lyrics_transformed = loaded_model.transform(new_lyrics_df)\n",
    "\n",
    "# Show predictions with probabilities\n",
    "new_lyrics_transformed.select(\"prediction\", \"probability\").show(truncate=False)"
   ]
  },
  {
   "cell_type": "code",
   "execution_count": 51,
   "id": "ff108785",
   "metadata": {},
   "outputs": [],
   "source": [
    "spark.stop()"
   ]
  }
 ],
 "metadata": {
  "kernelspec": {
   "display_name": "Python 3",
   "language": "python",
   "name": "python3"
  },
  "language_info": {
   "codemirror_mode": {
    "name": "ipython",
    "version": 3
   },
   "file_extension": ".py",
   "mimetype": "text/x-python",
   "name": "python",
   "nbconvert_exporter": "python",
   "pygments_lexer": "ipython3",
   "version": "3.12.3"
  }
 },
 "nbformat": 4,
 "nbformat_minor": 5
}
